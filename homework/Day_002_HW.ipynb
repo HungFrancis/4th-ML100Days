{
 "cells": [
  {
   "cell_type": "markdown",
   "metadata": {},
   "source": [
    "#請找出一個你認為機器學習可以發光發熱的領域並闡述原因?\n",
    "    我認為機器學習在藝術領域上蠻有發展性的，透過蒐集資料分析，創作出一幅畫作抑或是一首精彩的樂曲。\n",
    "    例如：台灣AI Lab曾經研發出了一款AI鋼琴家，可以根據使用者輸入的語音，即興譜出一段鋼琴旋律。\n",
    "    原因無他，我覺得在未來，聆聽機器、軟體自主創作出的音樂，可能也是一大熱門趨勢，也更能讓科技融入每個人的日常，\n",
    "    AI Lab的創辦人杜奕瑾也曾表示：「藝術文化是未來主要的服務與軟體產業，而服務與軟體產業將主導未來科技產業的發展，如果沒有藝術文化的蘊\n",
    "    含，其實科技產業無法融入每個人的日常生活中」。\n",
    "    \n",
    "   "
   ]
  }
 ],
 "metadata": {
  "kernelspec": {
   "display_name": "Python 3",
   "language": "python",
   "name": "python3"
  },
  "language_info": {
   "codemirror_mode": {
    "name": "ipython",
    "version": 3
   },
   "file_extension": ".py",
   "mimetype": "text/x-python",
   "name": "python",
   "nbconvert_exporter": "python",
   "pygments_lexer": "ipython3",
   "version": "3.7.4"
  }
 },
 "nbformat": 4,
 "nbformat_minor": 2
}
