{
 "cells": [
  {
   "cell_type": "markdown",
   "metadata": {},
   "source": [
    " # Homework 3\n",
    " ##     專案名稱｜　\n",
    "     [Personalized Hey Siri](https://machinelearning.apple.com/2018/04/16/personalized-hey-siri.html)\n",
    " ##  1.專案目標｜\n",
    "        為使Hey Siri 能夠針對使用者辨識其聲音，針對特定使用者的聲音、口音，做出更精準的判定。\n",
    " ##  2.使用技術｜\n",
    "         1. Key-phase-detection\n",
    "         2. Natural Language Processing, NLP\n",
    "         3. Recurrent Neural Network, RNN\n",
    "         4. Multi-style training\n",
    "         5. Curriculum learning \n",
    " ##  3.資料來源｜\n",
    "         因為是個人化語音辨識，因此每個人在設定Hey Siri時，將被要求使用者對手機念出相關字句，以此為資料來源接續接下來的運算。"
   ]
  },
  {
   "cell_type": "code",
   "execution_count": null,
   "metadata": {},
   "outputs": [],
   "source": []
  }
 ],
 "metadata": {
  "kernelspec": {
   "display_name": "Python 3",
   "language": "python",
   "name": "python3"
  },
  "language_info": {
   "codemirror_mode": {
    "name": "ipython",
    "version": 3
   },
   "file_extension": ".py",
   "mimetype": "text/x-python",
   "name": "python",
   "nbconvert_exporter": "python",
   "pygments_lexer": "ipython3",
   "version": "3.7.4"
  }
 },
 "nbformat": 4,
 "nbformat_minor": 2
}
